{
  "cells": [
    {
      "cell_type": "code",
      "execution_count": 3,
      "id": "17871c8c-d5b7-4881-8fb2-c3f084deec73",
      "metadata": {
        "id": "17871c8c-d5b7-4881-8fb2-c3f084deec73"
      },
      "outputs": [],
      "source": [
        "import pandas as pd\n",
        "import numpy as np\n",
        "import matplotlib.pyplot as plt"
      ]
    },
    {
      "cell_type": "markdown",
      "id": "7108a27f-97e8-4871-ae8d-c4c53a47dfe9",
      "metadata": {
        "id": "7108a27f-97e8-4871-ae8d-c4c53a47dfe9"
      },
      "source": [
        "#### Q1.  Who are the top 5 users in Basel with the highest number of followers? List their login in order, comma-separated"
      ]
    },
    {
      "cell_type": "code",
      "execution_count": 4,
      "id": "4259def7-3934-411b-b441-64d7d24bd92c",
      "metadata": {
        "colab": {
          "base_uri": "https://localhost:8080/",
          "height": 293
        },
        "id": "4259def7-3934-411b-b441-64d7d24bd92c",
        "outputId": "495632f8-9a54-4d73-f4ec-7607aa906b42"
      },
      "outputs": [
        {
          "output_type": "execute_result",
          "data": {
            "text/plain": [
              "          login            name   company         location  \\\n",
              "0      aneagoie  Andrei Neagoie       NaN  Toronto, Canada   \n",
              "1   ZhangMYihua     Yihua Zhang       NaN          Toronto   \n",
              "2   susanli2016        Susan Li       NaN   Toronto Canada   \n",
              "3  thedaviddias      David Dias  KIJIJICA  Toronto, Canada   \n",
              "4    ange-yaghi      Ange Yaghi       NaN          Toronto   \n",
              "\n",
              "                   email  hireable  \\\n",
              "0                    NaN      True   \n",
              "1  yihuazhang2@gmail.com     False   \n",
              "2                    NaN     False   \n",
              "3                    NaN     False   \n",
              "4       me@angeyaghi.com     False   \n",
              "\n",
              "                                                 bio  public_repos  followers  \\\n",
              "0  Senior Software Dev turned Instructor. Founder...           145      10279   \n",
              "1                         Toronto Software Developer           143       5801   \n",
              "2                               Chief Data Scientist            34       4921   \n",
              "3  💻 Passionate Front-End Dev & 🎨 UI/UX fan. Cont...            88       4546   \n",
              "4                                      C++ Developer            32       4023   \n",
              "\n",
              "   following            created_at  \n",
              "0          1  2015-01-30T17:05:43Z  \n",
              "1         11  2015-01-18T00:01:02Z  \n",
              "2         68  2016-11-28T04:22:39Z  \n",
              "3        303  2010-04-05T14:40:12Z  \n",
              "4         11  2016-07-13T21:01:21Z  "
            ],
            "text/html": [
              "\n",
              "  <div id=\"df-2bd9ffce-0e2c-448d-b771-86eeca1739c7\" class=\"colab-df-container\">\n",
              "    <div>\n",
              "<style scoped>\n",
              "    .dataframe tbody tr th:only-of-type {\n",
              "        vertical-align: middle;\n",
              "    }\n",
              "\n",
              "    .dataframe tbody tr th {\n",
              "        vertical-align: top;\n",
              "    }\n",
              "\n",
              "    .dataframe thead th {\n",
              "        text-align: right;\n",
              "    }\n",
              "</style>\n",
              "<table border=\"1\" class=\"dataframe\">\n",
              "  <thead>\n",
              "    <tr style=\"text-align: right;\">\n",
              "      <th></th>\n",
              "      <th>login</th>\n",
              "      <th>name</th>\n",
              "      <th>company</th>\n",
              "      <th>location</th>\n",
              "      <th>email</th>\n",
              "      <th>hireable</th>\n",
              "      <th>bio</th>\n",
              "      <th>public_repos</th>\n",
              "      <th>followers</th>\n",
              "      <th>following</th>\n",
              "      <th>created_at</th>\n",
              "    </tr>\n",
              "  </thead>\n",
              "  <tbody>\n",
              "    <tr>\n",
              "      <th>0</th>\n",
              "      <td>aneagoie</td>\n",
              "      <td>Andrei Neagoie</td>\n",
              "      <td>NaN</td>\n",
              "      <td>Toronto, Canada</td>\n",
              "      <td>NaN</td>\n",
              "      <td>True</td>\n",
              "      <td>Senior Software Dev turned Instructor. Founder...</td>\n",
              "      <td>145</td>\n",
              "      <td>10279</td>\n",
              "      <td>1</td>\n",
              "      <td>2015-01-30T17:05:43Z</td>\n",
              "    </tr>\n",
              "    <tr>\n",
              "      <th>1</th>\n",
              "      <td>ZhangMYihua</td>\n",
              "      <td>Yihua Zhang</td>\n",
              "      <td>NaN</td>\n",
              "      <td>Toronto</td>\n",
              "      <td>yihuazhang2@gmail.com</td>\n",
              "      <td>False</td>\n",
              "      <td>Toronto Software Developer</td>\n",
              "      <td>143</td>\n",
              "      <td>5801</td>\n",
              "      <td>11</td>\n",
              "      <td>2015-01-18T00:01:02Z</td>\n",
              "    </tr>\n",
              "    <tr>\n",
              "      <th>2</th>\n",
              "      <td>susanli2016</td>\n",
              "      <td>Susan Li</td>\n",
              "      <td>NaN</td>\n",
              "      <td>Toronto Canada</td>\n",
              "      <td>NaN</td>\n",
              "      <td>False</td>\n",
              "      <td>Chief Data Scientist</td>\n",
              "      <td>34</td>\n",
              "      <td>4921</td>\n",
              "      <td>68</td>\n",
              "      <td>2016-11-28T04:22:39Z</td>\n",
              "    </tr>\n",
              "    <tr>\n",
              "      <th>3</th>\n",
              "      <td>thedaviddias</td>\n",
              "      <td>David Dias</td>\n",
              "      <td>KIJIJICA</td>\n",
              "      <td>Toronto, Canada</td>\n",
              "      <td>NaN</td>\n",
              "      <td>False</td>\n",
              "      <td>💻 Passionate Front-End Dev &amp; 🎨 UI/UX fan. Cont...</td>\n",
              "      <td>88</td>\n",
              "      <td>4546</td>\n",
              "      <td>303</td>\n",
              "      <td>2010-04-05T14:40:12Z</td>\n",
              "    </tr>\n",
              "    <tr>\n",
              "      <th>4</th>\n",
              "      <td>ange-yaghi</td>\n",
              "      <td>Ange Yaghi</td>\n",
              "      <td>NaN</td>\n",
              "      <td>Toronto</td>\n",
              "      <td>me@angeyaghi.com</td>\n",
              "      <td>False</td>\n",
              "      <td>C++ Developer</td>\n",
              "      <td>32</td>\n",
              "      <td>4023</td>\n",
              "      <td>11</td>\n",
              "      <td>2016-07-13T21:01:21Z</td>\n",
              "    </tr>\n",
              "  </tbody>\n",
              "</table>\n",
              "</div>\n",
              "    <div class=\"colab-df-buttons\">\n",
              "\n",
              "  <div class=\"colab-df-container\">\n",
              "    <button class=\"colab-df-convert\" onclick=\"convertToInteractive('df-2bd9ffce-0e2c-448d-b771-86eeca1739c7')\"\n",
              "            title=\"Convert this dataframe to an interactive table.\"\n",
              "            style=\"display:none;\">\n",
              "\n",
              "  <svg xmlns=\"http://www.w3.org/2000/svg\" height=\"24px\" viewBox=\"0 -960 960 960\">\n",
              "    <path d=\"M120-120v-720h720v720H120Zm60-500h600v-160H180v160Zm220 220h160v-160H400v160Zm0 220h160v-160H400v160ZM180-400h160v-160H180v160Zm440 0h160v-160H620v160ZM180-180h160v-160H180v160Zm440 0h160v-160H620v160Z\"/>\n",
              "  </svg>\n",
              "    </button>\n",
              "\n",
              "  <style>\n",
              "    .colab-df-container {\n",
              "      display:flex;\n",
              "      gap: 12px;\n",
              "    }\n",
              "\n",
              "    .colab-df-convert {\n",
              "      background-color: #E8F0FE;\n",
              "      border: none;\n",
              "      border-radius: 50%;\n",
              "      cursor: pointer;\n",
              "      display: none;\n",
              "      fill: #1967D2;\n",
              "      height: 32px;\n",
              "      padding: 0 0 0 0;\n",
              "      width: 32px;\n",
              "    }\n",
              "\n",
              "    .colab-df-convert:hover {\n",
              "      background-color: #E2EBFA;\n",
              "      box-shadow: 0px 1px 2px rgba(60, 64, 67, 0.3), 0px 1px 3px 1px rgba(60, 64, 67, 0.15);\n",
              "      fill: #174EA6;\n",
              "    }\n",
              "\n",
              "    .colab-df-buttons div {\n",
              "      margin-bottom: 4px;\n",
              "    }\n",
              "\n",
              "    [theme=dark] .colab-df-convert {\n",
              "      background-color: #3B4455;\n",
              "      fill: #D2E3FC;\n",
              "    }\n",
              "\n",
              "    [theme=dark] .colab-df-convert:hover {\n",
              "      background-color: #434B5C;\n",
              "      box-shadow: 0px 1px 3px 1px rgba(0, 0, 0, 0.15);\n",
              "      filter: drop-shadow(0px 1px 2px rgba(0, 0, 0, 0.3));\n",
              "      fill: #FFFFFF;\n",
              "    }\n",
              "  </style>\n",
              "\n",
              "    <script>\n",
              "      const buttonEl =\n",
              "        document.querySelector('#df-2bd9ffce-0e2c-448d-b771-86eeca1739c7 button.colab-df-convert');\n",
              "      buttonEl.style.display =\n",
              "        google.colab.kernel.accessAllowed ? 'block' : 'none';\n",
              "\n",
              "      async function convertToInteractive(key) {\n",
              "        const element = document.querySelector('#df-2bd9ffce-0e2c-448d-b771-86eeca1739c7');\n",
              "        const dataTable =\n",
              "          await google.colab.kernel.invokeFunction('convertToInteractive',\n",
              "                                                    [key], {});\n",
              "        if (!dataTable) return;\n",
              "\n",
              "        const docLinkHtml = 'Like what you see? Visit the ' +\n",
              "          '<a target=\"_blank\" href=https://colab.research.google.com/notebooks/data_table.ipynb>data table notebook</a>'\n",
              "          + ' to learn more about interactive tables.';\n",
              "        element.innerHTML = '';\n",
              "        dataTable['output_type'] = 'display_data';\n",
              "        await google.colab.output.renderOutput(dataTable, element);\n",
              "        const docLink = document.createElement('div');\n",
              "        docLink.innerHTML = docLinkHtml;\n",
              "        element.appendChild(docLink);\n",
              "      }\n",
              "    </script>\n",
              "  </div>\n",
              "\n",
              "\n",
              "<div id=\"df-0ef35439-90ff-4f02-8b32-bbbb66c14e22\">\n",
              "  <button class=\"colab-df-quickchart\" onclick=\"quickchart('df-0ef35439-90ff-4f02-8b32-bbbb66c14e22')\"\n",
              "            title=\"Suggest charts\"\n",
              "            style=\"display:none;\">\n",
              "\n",
              "<svg xmlns=\"http://www.w3.org/2000/svg\" height=\"24px\"viewBox=\"0 0 24 24\"\n",
              "     width=\"24px\">\n",
              "    <g>\n",
              "        <path d=\"M19 3H5c-1.1 0-2 .9-2 2v14c0 1.1.9 2 2 2h14c1.1 0 2-.9 2-2V5c0-1.1-.9-2-2-2zM9 17H7v-7h2v7zm4 0h-2V7h2v10zm4 0h-2v-4h2v4z\"/>\n",
              "    </g>\n",
              "</svg>\n",
              "  </button>\n",
              "\n",
              "<style>\n",
              "  .colab-df-quickchart {\n",
              "      --bg-color: #E8F0FE;\n",
              "      --fill-color: #1967D2;\n",
              "      --hover-bg-color: #E2EBFA;\n",
              "      --hover-fill-color: #174EA6;\n",
              "      --disabled-fill-color: #AAA;\n",
              "      --disabled-bg-color: #DDD;\n",
              "  }\n",
              "\n",
              "  [theme=dark] .colab-df-quickchart {\n",
              "      --bg-color: #3B4455;\n",
              "      --fill-color: #D2E3FC;\n",
              "      --hover-bg-color: #434B5C;\n",
              "      --hover-fill-color: #FFFFFF;\n",
              "      --disabled-bg-color: #3B4455;\n",
              "      --disabled-fill-color: #666;\n",
              "  }\n",
              "\n",
              "  .colab-df-quickchart {\n",
              "    background-color: var(--bg-color);\n",
              "    border: none;\n",
              "    border-radius: 50%;\n",
              "    cursor: pointer;\n",
              "    display: none;\n",
              "    fill: var(--fill-color);\n",
              "    height: 32px;\n",
              "    padding: 0;\n",
              "    width: 32px;\n",
              "  }\n",
              "\n",
              "  .colab-df-quickchart:hover {\n",
              "    background-color: var(--hover-bg-color);\n",
              "    box-shadow: 0 1px 2px rgba(60, 64, 67, 0.3), 0 1px 3px 1px rgba(60, 64, 67, 0.15);\n",
              "    fill: var(--button-hover-fill-color);\n",
              "  }\n",
              "\n",
              "  .colab-df-quickchart-complete:disabled,\n",
              "  .colab-df-quickchart-complete:disabled:hover {\n",
              "    background-color: var(--disabled-bg-color);\n",
              "    fill: var(--disabled-fill-color);\n",
              "    box-shadow: none;\n",
              "  }\n",
              "\n",
              "  .colab-df-spinner {\n",
              "    border: 2px solid var(--fill-color);\n",
              "    border-color: transparent;\n",
              "    border-bottom-color: var(--fill-color);\n",
              "    animation:\n",
              "      spin 1s steps(1) infinite;\n",
              "  }\n",
              "\n",
              "  @keyframes spin {\n",
              "    0% {\n",
              "      border-color: transparent;\n",
              "      border-bottom-color: var(--fill-color);\n",
              "      border-left-color: var(--fill-color);\n",
              "    }\n",
              "    20% {\n",
              "      border-color: transparent;\n",
              "      border-left-color: var(--fill-color);\n",
              "      border-top-color: var(--fill-color);\n",
              "    }\n",
              "    30% {\n",
              "      border-color: transparent;\n",
              "      border-left-color: var(--fill-color);\n",
              "      border-top-color: var(--fill-color);\n",
              "      border-right-color: var(--fill-color);\n",
              "    }\n",
              "    40% {\n",
              "      border-color: transparent;\n",
              "      border-right-color: var(--fill-color);\n",
              "      border-top-color: var(--fill-color);\n",
              "    }\n",
              "    60% {\n",
              "      border-color: transparent;\n",
              "      border-right-color: var(--fill-color);\n",
              "    }\n",
              "    80% {\n",
              "      border-color: transparent;\n",
              "      border-right-color: var(--fill-color);\n",
              "      border-bottom-color: var(--fill-color);\n",
              "    }\n",
              "    90% {\n",
              "      border-color: transparent;\n",
              "      border-bottom-color: var(--fill-color);\n",
              "    }\n",
              "  }\n",
              "</style>\n",
              "\n",
              "  <script>\n",
              "    async function quickchart(key) {\n",
              "      const quickchartButtonEl =\n",
              "        document.querySelector('#' + key + ' button');\n",
              "      quickchartButtonEl.disabled = true;  // To prevent multiple clicks.\n",
              "      quickchartButtonEl.classList.add('colab-df-spinner');\n",
              "      try {\n",
              "        const charts = await google.colab.kernel.invokeFunction(\n",
              "            'suggestCharts', [key], {});\n",
              "      } catch (error) {\n",
              "        console.error('Error during call to suggestCharts:', error);\n",
              "      }\n",
              "      quickchartButtonEl.classList.remove('colab-df-spinner');\n",
              "      quickchartButtonEl.classList.add('colab-df-quickchart-complete');\n",
              "    }\n",
              "    (() => {\n",
              "      let quickchartButtonEl =\n",
              "        document.querySelector('#df-0ef35439-90ff-4f02-8b32-bbbb66c14e22 button');\n",
              "      quickchartButtonEl.style.display =\n",
              "        google.colab.kernel.accessAllowed ? 'block' : 'none';\n",
              "    })();\n",
              "  </script>\n",
              "</div>\n",
              "\n",
              "    </div>\n",
              "  </div>\n"
            ],
            "application/vnd.google.colaboratory.intrinsic+json": {
              "type": "dataframe",
              "variable_name": "users",
              "summary": "{\n  \"name\": \"users\",\n  \"rows\": 685,\n  \"fields\": [\n    {\n      \"column\": \"login\",\n      \"properties\": {\n        \"dtype\": \"string\",\n        \"num_unique_values\": 685,\n        \"samples\": [\n          \"DateBro\",\n          \"wxs\",\n          \"friyiajr\"\n        ],\n        \"semantic_type\": \"\",\n        \"description\": \"\"\n      }\n    },\n    {\n      \"column\": \"name\",\n      \"properties\": {\n        \"dtype\": \"string\",\n        \"num_unique_values\": 671,\n        \"samples\": [\n          \"Everistus Olumese\",\n          \"Nika Layzell\",\n          \"Ray Phan\"\n        ],\n        \"semantic_type\": \"\",\n        \"description\": \"\"\n      }\n    },\n    {\n      \"column\": \"company\",\n      \"properties\": {\n        \"dtype\": \"category\",\n        \"num_unique_values\": 309,\n        \"samples\": [\n          \"BRAINSTATION\",\n          \"ATTALITECH LTD\",\n          \"ZERO TO MASTERY\"\n        ],\n        \"semantic_type\": \"\",\n        \"description\": \"\"\n      }\n    },\n    {\n      \"column\": \"location\",\n      \"properties\": {\n        \"dtype\": \"category\",\n        \"num_unique_values\": 64,\n        \"samples\": [\n          \"Kyiv -> Toronto\",\n          \"Toronto ON / Burlington VT\",\n          \"Toronto, Canada\"\n        ],\n        \"semantic_type\": \"\",\n        \"description\": \"\"\n      }\n    },\n    {\n      \"column\": \"email\",\n      \"properties\": {\n        \"dtype\": \"string\",\n        \"num_unique_values\": 366,\n        \"samples\": [\n          \"xuanji@gmail.com\",\n          \"dmitri.sotnikov@gmail.com\",\n          \"michael@clojurewerkz.org\"\n        ],\n        \"semantic_type\": \"\",\n        \"description\": \"\"\n      }\n    },\n    {\n      \"column\": \"hireable\",\n      \"properties\": {\n        \"dtype\": \"boolean\",\n        \"num_unique_values\": 2,\n        \"samples\": [\n          false,\n          true\n        ],\n        \"semantic_type\": \"\",\n        \"description\": \"\"\n      }\n    },\n    {\n      \"column\": \"bio\",\n      \"properties\": {\n        \"dtype\": \"string\",\n        \"num_unique_values\": 480,\n        \"samples\": [\n          \"Full stack engineer & educator. @getsentry + @creatures-sh.\",\n          \"Web application developer from Taiwan.\"\n        ],\n        \"semantic_type\": \"\",\n        \"description\": \"\"\n      }\n    },\n    {\n      \"column\": \"public_repos\",\n      \"properties\": {\n        \"dtype\": \"number\",\n        \"std\": 147,\n        \"min\": 0,\n        \"max\": 2085,\n        \"num_unique_values\": 213,\n        \"samples\": [\n          158,\n          215\n        ],\n        \"semantic_type\": \"\",\n        \"description\": \"\"\n      }\n    },\n    {\n      \"column\": \"followers\",\n      \"properties\": {\n        \"dtype\": \"number\",\n        \"std\": 673,\n        \"min\": 101,\n        \"max\": 10279,\n        \"num_unique_values\": 329,\n        \"samples\": [\n          2487,\n          301\n        ],\n        \"semantic_type\": \"\",\n        \"description\": \"\"\n      }\n    },\n    {\n      \"column\": \"following\",\n      \"properties\": {\n        \"dtype\": \"number\",\n        \"std\": 797,\n        \"min\": 0,\n        \"max\": 19957,\n        \"num_unique_values\": 216,\n        \"samples\": [\n          539,\n          604\n        ],\n        \"semantic_type\": \"\",\n        \"description\": \"\"\n      }\n    },\n    {\n      \"column\": \"created_at\",\n      \"properties\": {\n        \"dtype\": \"object\",\n        \"num_unique_values\": 685,\n        \"samples\": [\n          \"2017-10-11T14:50:26Z\",\n          \"2010-07-08T15:55:11Z\"\n        ],\n        \"semantic_type\": \"\",\n        \"description\": \"\"\n      }\n    }\n  ]\n}"
            }
          },
          "metadata": {},
          "execution_count": 4
        }
      ],
      "source": [
        "users = pd.read_csv('users.csv')\n",
        "users.head()"
      ]
    },
    {
      "cell_type": "code",
      "execution_count": 5,
      "id": "f37b7348-3978-4355-948f-8b87845756c0",
      "metadata": {
        "id": "f37b7348-3978-4355-948f-8b87845756c0"
      },
      "outputs": [],
      "source": [
        "users['hireable'] = users['hireable'].fillna(False).astype(bool)"
      ]
    },
    {
      "cell_type": "code",
      "execution_count": 6,
      "id": "a14993f9-48d3-4956-9cca-d4349c30f649",
      "metadata": {
        "colab": {
          "base_uri": "https://localhost:8080/"
        },
        "id": "a14993f9-48d3-4956-9cca-d4349c30f649",
        "outputId": "ee73afac-ddf1-4942-b38b-a2e97393b7f9"
      },
      "outputs": [
        {
          "output_type": "stream",
          "name": "stdout",
          "text": [
            "aneagoie,ZhangMYihua,susanli2016,thedaviddias,ange-yaghi\n"
          ]
        }
      ],
      "source": [
        "top5 = users.sort_values(by='followers', ascending=False).head()\n",
        "print(','.join(top5['login'].tolist()))"
      ]
    },
    {
      "cell_type": "markdown",
      "id": "6cc86ddb-88c3-453c-bf56-29614358b62e",
      "metadata": {
        "id": "6cc86ddb-88c3-453c-bf56-29614358b62e"
      },
      "source": [
        "#### Q2. Who are the 5 earliest registered GitHub users in Basel? List their login in ascending order of created_at, comma-separated."
      ]
    },
    {
      "cell_type": "code",
      "execution_count": 7,
      "id": "afe79990-ccd3-4c8d-b184-45de1f19097c",
      "metadata": {
        "id": "afe79990-ccd3-4c8d-b184-45de1f19097c"
      },
      "outputs": [],
      "source": [
        "users['created_at'] = pd.to_datetime(users['created_at'])"
      ]
    },
    {
      "cell_type": "code",
      "execution_count": 8,
      "id": "f9645405-1745-4f06-9ba8-681b5c1e51b0",
      "metadata": {
        "colab": {
          "base_uri": "https://localhost:8080/"
        },
        "id": "f9645405-1745-4f06-9ba8-681b5c1e51b0",
        "outputId": "b1b71df4-2b63-4d96-a750-d21dce40164a"
      },
      "outputs": [
        {
          "output_type": "stream",
          "name": "stdout",
          "text": [
            "jamesmacaulay,michaelklishin,myles,nwjsmith,vito\n"
          ]
        }
      ],
      "source": [
        "top_earliest = users.sort_values(by='created_at').head()\n",
        "print(','.join(top_earliest['login'].tolist()))"
      ]
    },
    {
      "cell_type": "markdown",
      "id": "1675cbcf-6a8b-4af8-b24a-1372f68efd6b",
      "metadata": {
        "id": "1675cbcf-6a8b-4af8-b24a-1372f68efd6b"
      },
      "source": [
        "#### Q3. What are the 3 most popular license among these users? Ignore missing licenses. List the license_name in order, comma-separated."
      ]
    },
    {
      "cell_type": "code",
      "execution_count": 9,
      "id": "a139a9a8-9ded-4175-b023-fe871850f3a4",
      "metadata": {
        "colab": {
          "base_uri": "https://localhost:8080/",
          "height": 206
        },
        "id": "a139a9a8-9ded-4175-b023-fe871850f3a4",
        "outputId": "c5df80dd-0bca-4e12-c86c-e5a8866e7c0f"
      },
      "outputs": [
        {
          "output_type": "execute_result",
          "data": {
            "text/plain": [
              "      login                                        full_name  \\\n",
              "0  aneagoie                                 aneagoie/3D_roll   \n",
              "1  aneagoie  aneagoie/advanced-React-Redux-Training-Jeopardy   \n",
              "2  aneagoie         aneagoie/advanced-redux-training-RoboDex   \n",
              "3  aneagoie                         aneagoie/AirBnB-template   \n",
              "4  aneagoie                               aneagoie/ajaxCalls   \n",
              "\n",
              "             created_at  stargazers_count  watchers_count    language  \\\n",
              "0  2017-01-08T20:05:27Z                 0               0  JavaScript   \n",
              "1  2017-01-31T20:34:22Z                 1               1         CSS   \n",
              "2  2017-01-25T15:05:15Z                 1               1  JavaScript   \n",
              "3  2015-06-19T18:00:33Z                 1               1        HTML   \n",
              "4  2015-06-11T14:22:59Z                 0               0  JavaScript   \n",
              "\n",
              "   has_projects  has_wiki license_name  \n",
              "0          True      True          NaN  \n",
              "1          True      True          NaN  \n",
              "2          True      True          NaN  \n",
              "3          True      True          NaN  \n",
              "4          True      True          NaN  "
            ],
            "text/html": [
              "\n",
              "  <div id=\"df-32e93c69-95ef-4730-b34b-0bb4fb61e882\" class=\"colab-df-container\">\n",
              "    <div>\n",
              "<style scoped>\n",
              "    .dataframe tbody tr th:only-of-type {\n",
              "        vertical-align: middle;\n",
              "    }\n",
              "\n",
              "    .dataframe tbody tr th {\n",
              "        vertical-align: top;\n",
              "    }\n",
              "\n",
              "    .dataframe thead th {\n",
              "        text-align: right;\n",
              "    }\n",
              "</style>\n",
              "<table border=\"1\" class=\"dataframe\">\n",
              "  <thead>\n",
              "    <tr style=\"text-align: right;\">\n",
              "      <th></th>\n",
              "      <th>login</th>\n",
              "      <th>full_name</th>\n",
              "      <th>created_at</th>\n",
              "      <th>stargazers_count</th>\n",
              "      <th>watchers_count</th>\n",
              "      <th>language</th>\n",
              "      <th>has_projects</th>\n",
              "      <th>has_wiki</th>\n",
              "      <th>license_name</th>\n",
              "    </tr>\n",
              "  </thead>\n",
              "  <tbody>\n",
              "    <tr>\n",
              "      <th>0</th>\n",
              "      <td>aneagoie</td>\n",
              "      <td>aneagoie/3D_roll</td>\n",
              "      <td>2017-01-08T20:05:27Z</td>\n",
              "      <td>0</td>\n",
              "      <td>0</td>\n",
              "      <td>JavaScript</td>\n",
              "      <td>True</td>\n",
              "      <td>True</td>\n",
              "      <td>NaN</td>\n",
              "    </tr>\n",
              "    <tr>\n",
              "      <th>1</th>\n",
              "      <td>aneagoie</td>\n",
              "      <td>aneagoie/advanced-React-Redux-Training-Jeopardy</td>\n",
              "      <td>2017-01-31T20:34:22Z</td>\n",
              "      <td>1</td>\n",
              "      <td>1</td>\n",
              "      <td>CSS</td>\n",
              "      <td>True</td>\n",
              "      <td>True</td>\n",
              "      <td>NaN</td>\n",
              "    </tr>\n",
              "    <tr>\n",
              "      <th>2</th>\n",
              "      <td>aneagoie</td>\n",
              "      <td>aneagoie/advanced-redux-training-RoboDex</td>\n",
              "      <td>2017-01-25T15:05:15Z</td>\n",
              "      <td>1</td>\n",
              "      <td>1</td>\n",
              "      <td>JavaScript</td>\n",
              "      <td>True</td>\n",
              "      <td>True</td>\n",
              "      <td>NaN</td>\n",
              "    </tr>\n",
              "    <tr>\n",
              "      <th>3</th>\n",
              "      <td>aneagoie</td>\n",
              "      <td>aneagoie/AirBnB-template</td>\n",
              "      <td>2015-06-19T18:00:33Z</td>\n",
              "      <td>1</td>\n",
              "      <td>1</td>\n",
              "      <td>HTML</td>\n",
              "      <td>True</td>\n",
              "      <td>True</td>\n",
              "      <td>NaN</td>\n",
              "    </tr>\n",
              "    <tr>\n",
              "      <th>4</th>\n",
              "      <td>aneagoie</td>\n",
              "      <td>aneagoie/ajaxCalls</td>\n",
              "      <td>2015-06-11T14:22:59Z</td>\n",
              "      <td>0</td>\n",
              "      <td>0</td>\n",
              "      <td>JavaScript</td>\n",
              "      <td>True</td>\n",
              "      <td>True</td>\n",
              "      <td>NaN</td>\n",
              "    </tr>\n",
              "  </tbody>\n",
              "</table>\n",
              "</div>\n",
              "    <div class=\"colab-df-buttons\">\n",
              "\n",
              "  <div class=\"colab-df-container\">\n",
              "    <button class=\"colab-df-convert\" onclick=\"convertToInteractive('df-32e93c69-95ef-4730-b34b-0bb4fb61e882')\"\n",
              "            title=\"Convert this dataframe to an interactive table.\"\n",
              "            style=\"display:none;\">\n",
              "\n",
              "  <svg xmlns=\"http://www.w3.org/2000/svg\" height=\"24px\" viewBox=\"0 -960 960 960\">\n",
              "    <path d=\"M120-120v-720h720v720H120Zm60-500h600v-160H180v160Zm220 220h160v-160H400v160Zm0 220h160v-160H400v160ZM180-400h160v-160H180v160Zm440 0h160v-160H620v160ZM180-180h160v-160H180v160Zm440 0h160v-160H620v160Z\"/>\n",
              "  </svg>\n",
              "    </button>\n",
              "\n",
              "  <style>\n",
              "    .colab-df-container {\n",
              "      display:flex;\n",
              "      gap: 12px;\n",
              "    }\n",
              "\n",
              "    .colab-df-convert {\n",
              "      background-color: #E8F0FE;\n",
              "      border: none;\n",
              "      border-radius: 50%;\n",
              "      cursor: pointer;\n",
              "      display: none;\n",
              "      fill: #1967D2;\n",
              "      height: 32px;\n",
              "      padding: 0 0 0 0;\n",
              "      width: 32px;\n",
              "    }\n",
              "\n",
              "    .colab-df-convert:hover {\n",
              "      background-color: #E2EBFA;\n",
              "      box-shadow: 0px 1px 2px rgba(60, 64, 67, 0.3), 0px 1px 3px 1px rgba(60, 64, 67, 0.15);\n",
              "      fill: #174EA6;\n",
              "    }\n",
              "\n",
              "    .colab-df-buttons div {\n",
              "      margin-bottom: 4px;\n",
              "    }\n",
              "\n",
              "    [theme=dark] .colab-df-convert {\n",
              "      background-color: #3B4455;\n",
              "      fill: #D2E3FC;\n",
              "    }\n",
              "\n",
              "    [theme=dark] .colab-df-convert:hover {\n",
              "      background-color: #434B5C;\n",
              "      box-shadow: 0px 1px 3px 1px rgba(0, 0, 0, 0.15);\n",
              "      filter: drop-shadow(0px 1px 2px rgba(0, 0, 0, 0.3));\n",
              "      fill: #FFFFFF;\n",
              "    }\n",
              "  </style>\n",
              "\n",
              "    <script>\n",
              "      const buttonEl =\n",
              "        document.querySelector('#df-32e93c69-95ef-4730-b34b-0bb4fb61e882 button.colab-df-convert');\n",
              "      buttonEl.style.display =\n",
              "        google.colab.kernel.accessAllowed ? 'block' : 'none';\n",
              "\n",
              "      async function convertToInteractive(key) {\n",
              "        const element = document.querySelector('#df-32e93c69-95ef-4730-b34b-0bb4fb61e882');\n",
              "        const dataTable =\n",
              "          await google.colab.kernel.invokeFunction('convertToInteractive',\n",
              "                                                    [key], {});\n",
              "        if (!dataTable) return;\n",
              "\n",
              "        const docLinkHtml = 'Like what you see? Visit the ' +\n",
              "          '<a target=\"_blank\" href=https://colab.research.google.com/notebooks/data_table.ipynb>data table notebook</a>'\n",
              "          + ' to learn more about interactive tables.';\n",
              "        element.innerHTML = '';\n",
              "        dataTable['output_type'] = 'display_data';\n",
              "        await google.colab.output.renderOutput(dataTable, element);\n",
              "        const docLink = document.createElement('div');\n",
              "        docLink.innerHTML = docLinkHtml;\n",
              "        element.appendChild(docLink);\n",
              "      }\n",
              "    </script>\n",
              "  </div>\n",
              "\n",
              "\n",
              "<div id=\"df-495a553c-0ab1-486c-9ff8-a7e91aaff938\">\n",
              "  <button class=\"colab-df-quickchart\" onclick=\"quickchart('df-495a553c-0ab1-486c-9ff8-a7e91aaff938')\"\n",
              "            title=\"Suggest charts\"\n",
              "            style=\"display:none;\">\n",
              "\n",
              "<svg xmlns=\"http://www.w3.org/2000/svg\" height=\"24px\"viewBox=\"0 0 24 24\"\n",
              "     width=\"24px\">\n",
              "    <g>\n",
              "        <path d=\"M19 3H5c-1.1 0-2 .9-2 2v14c0 1.1.9 2 2 2h14c1.1 0 2-.9 2-2V5c0-1.1-.9-2-2-2zM9 17H7v-7h2v7zm4 0h-2V7h2v10zm4 0h-2v-4h2v4z\"/>\n",
              "    </g>\n",
              "</svg>\n",
              "  </button>\n",
              "\n",
              "<style>\n",
              "  .colab-df-quickchart {\n",
              "      --bg-color: #E8F0FE;\n",
              "      --fill-color: #1967D2;\n",
              "      --hover-bg-color: #E2EBFA;\n",
              "      --hover-fill-color: #174EA6;\n",
              "      --disabled-fill-color: #AAA;\n",
              "      --disabled-bg-color: #DDD;\n",
              "  }\n",
              "\n",
              "  [theme=dark] .colab-df-quickchart {\n",
              "      --bg-color: #3B4455;\n",
              "      --fill-color: #D2E3FC;\n",
              "      --hover-bg-color: #434B5C;\n",
              "      --hover-fill-color: #FFFFFF;\n",
              "      --disabled-bg-color: #3B4455;\n",
              "      --disabled-fill-color: #666;\n",
              "  }\n",
              "\n",
              "  .colab-df-quickchart {\n",
              "    background-color: var(--bg-color);\n",
              "    border: none;\n",
              "    border-radius: 50%;\n",
              "    cursor: pointer;\n",
              "    display: none;\n",
              "    fill: var(--fill-color);\n",
              "    height: 32px;\n",
              "    padding: 0;\n",
              "    width: 32px;\n",
              "  }\n",
              "\n",
              "  .colab-df-quickchart:hover {\n",
              "    background-color: var(--hover-bg-color);\n",
              "    box-shadow: 0 1px 2px rgba(60, 64, 67, 0.3), 0 1px 3px 1px rgba(60, 64, 67, 0.15);\n",
              "    fill: var(--button-hover-fill-color);\n",
              "  }\n",
              "\n",
              "  .colab-df-quickchart-complete:disabled,\n",
              "  .colab-df-quickchart-complete:disabled:hover {\n",
              "    background-color: var(--disabled-bg-color);\n",
              "    fill: var(--disabled-fill-color);\n",
              "    box-shadow: none;\n",
              "  }\n",
              "\n",
              "  .colab-df-spinner {\n",
              "    border: 2px solid var(--fill-color);\n",
              "    border-color: transparent;\n",
              "    border-bottom-color: var(--fill-color);\n",
              "    animation:\n",
              "      spin 1s steps(1) infinite;\n",
              "  }\n",
              "\n",
              "  @keyframes spin {\n",
              "    0% {\n",
              "      border-color: transparent;\n",
              "      border-bottom-color: var(--fill-color);\n",
              "      border-left-color: var(--fill-color);\n",
              "    }\n",
              "    20% {\n",
              "      border-color: transparent;\n",
              "      border-left-color: var(--fill-color);\n",
              "      border-top-color: var(--fill-color);\n",
              "    }\n",
              "    30% {\n",
              "      border-color: transparent;\n",
              "      border-left-color: var(--fill-color);\n",
              "      border-top-color: var(--fill-color);\n",
              "      border-right-color: var(--fill-color);\n",
              "    }\n",
              "    40% {\n",
              "      border-color: transparent;\n",
              "      border-right-color: var(--fill-color);\n",
              "      border-top-color: var(--fill-color);\n",
              "    }\n",
              "    60% {\n",
              "      border-color: transparent;\n",
              "      border-right-color: var(--fill-color);\n",
              "    }\n",
              "    80% {\n",
              "      border-color: transparent;\n",
              "      border-right-color: var(--fill-color);\n",
              "      border-bottom-color: var(--fill-color);\n",
              "    }\n",
              "    90% {\n",
              "      border-color: transparent;\n",
              "      border-bottom-color: var(--fill-color);\n",
              "    }\n",
              "  }\n",
              "</style>\n",
              "\n",
              "  <script>\n",
              "    async function quickchart(key) {\n",
              "      const quickchartButtonEl =\n",
              "        document.querySelector('#' + key + ' button');\n",
              "      quickchartButtonEl.disabled = true;  // To prevent multiple clicks.\n",
              "      quickchartButtonEl.classList.add('colab-df-spinner');\n",
              "      try {\n",
              "        const charts = await google.colab.kernel.invokeFunction(\n",
              "            'suggestCharts', [key], {});\n",
              "      } catch (error) {\n",
              "        console.error('Error during call to suggestCharts:', error);\n",
              "      }\n",
              "      quickchartButtonEl.classList.remove('colab-df-spinner');\n",
              "      quickchartButtonEl.classList.add('colab-df-quickchart-complete');\n",
              "    }\n",
              "    (() => {\n",
              "      let quickchartButtonEl =\n",
              "        document.querySelector('#df-495a553c-0ab1-486c-9ff8-a7e91aaff938 button');\n",
              "      quickchartButtonEl.style.display =\n",
              "        google.colab.kernel.accessAllowed ? 'block' : 'none';\n",
              "    })();\n",
              "  </script>\n",
              "</div>\n",
              "\n",
              "    </div>\n",
              "  </div>\n"
            ],
            "application/vnd.google.colaboratory.intrinsic+json": {
              "type": "dataframe",
              "variable_name": "repos",
              "summary": "{\n  \"name\": \"repos\",\n  \"rows\": 60207,\n  \"fields\": [\n    {\n      \"column\": \"login\",\n      \"properties\": {\n        \"dtype\": \"category\",\n        \"num_unique_values\": 683,\n        \"samples\": [\n          \"DateBro\",\n          \"cheezy\",\n          \"ritheshkumar95\"\n        ],\n        \"semantic_type\": \"\",\n        \"description\": \"\"\n      }\n    },\n    {\n      \"column\": \"full_name\",\n      \"properties\": {\n        \"dtype\": \"string\",\n        \"num_unique_values\": 60207,\n        \"samples\": [\n          \"nathanmarks/jsdoc\",\n          \"alifa98/vlc-subtitle-word-search\",\n          \"nhat416/mage-ai\"\n        ],\n        \"semantic_type\": \"\",\n        \"description\": \"\"\n      }\n    },\n    {\n      \"column\": \"created_at\",\n      \"properties\": {\n        \"dtype\": \"object\",\n        \"num_unique_values\": 60173,\n        \"samples\": [\n          \"2015-12-08T21:10:52Z\",\n          \"2017-07-23T17:06:40Z\",\n          \"2014-02-25T23:18:39Z\"\n        ],\n        \"semantic_type\": \"\",\n        \"description\": \"\"\n      }\n    },\n    {\n      \"column\": \"stargazers_count\",\n      \"properties\": {\n        \"dtype\": \"number\",\n        \"std\": 517,\n        \"min\": 0,\n        \"max\": 68913,\n        \"num_unique_values\": 648,\n        \"samples\": [\n          1962,\n          83,\n          248\n        ],\n        \"semantic_type\": \"\",\n        \"description\": \"\"\n      }\n    },\n    {\n      \"column\": \"watchers_count\",\n      \"properties\": {\n        \"dtype\": \"number\",\n        \"std\": 517,\n        \"min\": 0,\n        \"max\": 68913,\n        \"num_unique_values\": 648,\n        \"samples\": [\n          1962,\n          83,\n          248\n        ],\n        \"semantic_type\": \"\",\n        \"description\": \"\"\n      }\n    },\n    {\n      \"column\": \"language\",\n      \"properties\": {\n        \"dtype\": \"category\",\n        \"num_unique_values\": 220,\n        \"samples\": [\n          \"Processing\",\n          \"GLSL\",\n          \"Liquid\"\n        ],\n        \"semantic_type\": \"\",\n        \"description\": \"\"\n      }\n    },\n    {\n      \"column\": \"has_projects\",\n      \"properties\": {\n        \"dtype\": \"boolean\",\n        \"num_unique_values\": 2,\n        \"samples\": [\n          false,\n          true\n        ],\n        \"semantic_type\": \"\",\n        \"description\": \"\"\n      }\n    },\n    {\n      \"column\": \"has_wiki\",\n      \"properties\": {\n        \"dtype\": \"boolean\",\n        \"num_unique_values\": 2,\n        \"samples\": [\n          false,\n          true\n        ],\n        \"semantic_type\": \"\",\n        \"description\": \"\"\n      }\n    },\n    {\n      \"column\": \"license_name\",\n      \"properties\": {\n        \"dtype\": \"category\",\n        \"num_unique_values\": 35,\n        \"samples\": [\n          \"ms-pl\",\n          \"mpl-2.0\"\n        ],\n        \"semantic_type\": \"\",\n        \"description\": \"\"\n      }\n    }\n  ]\n}"
            }
          },
          "metadata": {},
          "execution_count": 9
        }
      ],
      "source": [
        "repos = pd.read_csv('repositories.csv')\n",
        "repos.head()"
      ]
    },
    {
      "cell_type": "code",
      "execution_count": 10,
      "id": "f5b0a4ce-ae41-4066-a59a-58e81f27ad47",
      "metadata": {
        "colab": {
          "base_uri": "https://localhost:8080/",
          "height": 209
        },
        "id": "f5b0a4ce-ae41-4066-a59a-58e81f27ad47",
        "outputId": "8476bf5a-06c4-4f2d-affa-c1c677f4c864"
      },
      "outputs": [
        {
          "output_type": "execute_result",
          "data": {
            "text/plain": [
              "license_name\n",
              "mit           14797\n",
              "other          4790\n",
              "apache-2.0     4579\n",
              "Name: count, dtype: int64"
            ],
            "text/html": [
              "<div>\n",
              "<style scoped>\n",
              "    .dataframe tbody tr th:only-of-type {\n",
              "        vertical-align: middle;\n",
              "    }\n",
              "\n",
              "    .dataframe tbody tr th {\n",
              "        vertical-align: top;\n",
              "    }\n",
              "\n",
              "    .dataframe thead th {\n",
              "        text-align: right;\n",
              "    }\n",
              "</style>\n",
              "<table border=\"1\" class=\"dataframe\">\n",
              "  <thead>\n",
              "    <tr style=\"text-align: right;\">\n",
              "      <th></th>\n",
              "      <th>count</th>\n",
              "    </tr>\n",
              "    <tr>\n",
              "      <th>license_name</th>\n",
              "      <th></th>\n",
              "    </tr>\n",
              "  </thead>\n",
              "  <tbody>\n",
              "    <tr>\n",
              "      <th>mit</th>\n",
              "      <td>14797</td>\n",
              "    </tr>\n",
              "    <tr>\n",
              "      <th>other</th>\n",
              "      <td>4790</td>\n",
              "    </tr>\n",
              "    <tr>\n",
              "      <th>apache-2.0</th>\n",
              "      <td>4579</td>\n",
              "    </tr>\n",
              "  </tbody>\n",
              "</table>\n",
              "</div><br><label><b>dtype:</b> int64</label>"
            ]
          },
          "metadata": {},
          "execution_count": 10
        }
      ],
      "source": [
        "repos['license_name'].value_counts().head(3)"
      ]
    },
    {
      "cell_type": "markdown",
      "id": "662f1894-2c60-429c-b06d-cbe36afe6f08",
      "metadata": {
        "id": "662f1894-2c60-429c-b06d-cbe36afe6f08"
      },
      "source": [
        "#### Q4. Which company do the majority of these developers work at?"
      ]
    },
    {
      "cell_type": "code",
      "execution_count": 11,
      "id": "93a985b2-4e56-4871-9757-23e6ae5ed0de",
      "metadata": {
        "colab": {
          "base_uri": "https://localhost:8080/",
          "height": 147
        },
        "id": "93a985b2-4e56-4871-9757-23e6ae5ed0de",
        "outputId": "43455791-c944-42d5-fd37-ff2eb7b419ea"
      },
      "outputs": [
        {
          "output_type": "execute_result",
          "data": {
            "text/plain": [
              "company\n",
              "UNIVERSITY OF TORONTO    21\n",
              "Name: count, dtype: int64"
            ],
            "text/html": [
              "<div>\n",
              "<style scoped>\n",
              "    .dataframe tbody tr th:only-of-type {\n",
              "        vertical-align: middle;\n",
              "    }\n",
              "\n",
              "    .dataframe tbody tr th {\n",
              "        vertical-align: top;\n",
              "    }\n",
              "\n",
              "    .dataframe thead th {\n",
              "        text-align: right;\n",
              "    }\n",
              "</style>\n",
              "<table border=\"1\" class=\"dataframe\">\n",
              "  <thead>\n",
              "    <tr style=\"text-align: right;\">\n",
              "      <th></th>\n",
              "      <th>count</th>\n",
              "    </tr>\n",
              "    <tr>\n",
              "      <th>company</th>\n",
              "      <th></th>\n",
              "    </tr>\n",
              "  </thead>\n",
              "  <tbody>\n",
              "    <tr>\n",
              "      <th>UNIVERSITY OF TORONTO</th>\n",
              "      <td>21</td>\n",
              "    </tr>\n",
              "  </tbody>\n",
              "</table>\n",
              "</div><br><label><b>dtype:</b> int64</label>"
            ]
          },
          "metadata": {},
          "execution_count": 11
        }
      ],
      "source": [
        "users['company'].value_counts().head(1)"
      ]
    },
    {
      "cell_type": "markdown",
      "id": "3e73104c-f44c-4e59-aecc-cb10a34578a1",
      "metadata": {
        "id": "3e73104c-f44c-4e59-aecc-cb10a34578a1"
      },
      "source": [
        "#### Q5. Which programming language is most popular among these users?"
      ]
    },
    {
      "cell_type": "code",
      "execution_count": 12,
      "id": "1abcf548-42aa-43fc-837e-86c6db860617",
      "metadata": {
        "colab": {
          "base_uri": "https://localhost:8080/",
          "height": 147
        },
        "id": "1abcf548-42aa-43fc-837e-86c6db860617",
        "outputId": "808ffbdf-0968-4200-808e-7bd435e28636"
      },
      "outputs": [
        {
          "output_type": "execute_result",
          "data": {
            "text/plain": [
              "language\n",
              "JavaScript    11210\n",
              "Name: count, dtype: int64"
            ],
            "text/html": [
              "<div>\n",
              "<style scoped>\n",
              "    .dataframe tbody tr th:only-of-type {\n",
              "        vertical-align: middle;\n",
              "    }\n",
              "\n",
              "    .dataframe tbody tr th {\n",
              "        vertical-align: top;\n",
              "    }\n",
              "\n",
              "    .dataframe thead th {\n",
              "        text-align: right;\n",
              "    }\n",
              "</style>\n",
              "<table border=\"1\" class=\"dataframe\">\n",
              "  <thead>\n",
              "    <tr style=\"text-align: right;\">\n",
              "      <th></th>\n",
              "      <th>count</th>\n",
              "    </tr>\n",
              "    <tr>\n",
              "      <th>language</th>\n",
              "      <th></th>\n",
              "    </tr>\n",
              "  </thead>\n",
              "  <tbody>\n",
              "    <tr>\n",
              "      <th>JavaScript</th>\n",
              "      <td>11210</td>\n",
              "    </tr>\n",
              "  </tbody>\n",
              "</table>\n",
              "</div><br><label><b>dtype:</b> int64</label>"
            ]
          },
          "metadata": {},
          "execution_count": 12
        }
      ],
      "source": [
        "repos['language'].value_counts().head(1)"
      ]
    },
    {
      "cell_type": "markdown",
      "id": "bf7abc13-3226-4c35-b42e-400f06cac01d",
      "metadata": {
        "id": "bf7abc13-3226-4c35-b42e-400f06cac01d"
      },
      "source": [
        "#### Q6. Which programming language is the second most popular among users who joined after 2020?"
      ]
    },
    {
      "cell_type": "code",
      "execution_count": 13,
      "id": "d01727ac-d1de-4407-a65b-db7a88223d81",
      "metadata": {
        "colab": {
          "base_uri": "https://localhost:8080/",
          "height": 293
        },
        "id": "d01727ac-d1de-4407-a65b-db7a88223d81",
        "outputId": "cf1b5413-bcaf-4d94-83cf-8daef970b0f9"
      },
      "outputs": [
        {
          "output_type": "execute_result",
          "data": {
            "text/plain": [
              "           login           name        company         location email  \\\n",
              "52    enderh3art     Jesse Zhou            NaN          Toronto   NaN   \n",
              "62    iceburgcrm    Iceburg CRM            NaN  Toronto, Canada   NaN   \n",
              "79   HamedBahram   Hamed Bahram      STUDIO-HB      Toronto, CA   NaN   \n",
              "94    scrumtuous  Darcy DeClute     SCRUMTUOUS      Toronto, ON   NaN   \n",
              "105    barry-far       bardiafa  MIZEGERD-TECH      Toronto, ON   NaN   \n",
              "\n",
              "     hireable                                                bio  \\\n",
              "52      False                                                NaN   \n",
              "62      False                                        Iceburg CRM   \n",
              "79       True  Software developer & content creator from Cana...   \n",
              "94      False  I'm a certified Scrum Master and AWS Cloud Pra...   \n",
              "105     False  \"Don't let negativity dim your light; use it a...   \n",
              "\n",
              "     public_repos  followers  following                created_at  \n",
              "52              5        923          7 2020-04-28 05:36:17+00:00  \n",
              "62              5        714      19957 2022-11-11 21:59:06+00:00  \n",
              "79             87        578          3 2020-04-22 13:56:33+00:00  \n",
              "94             16        535         90 2021-12-17 18:56:47+00:00  \n",
              "105             5        490         10 2023-09-04 06:25:14+00:00  "
            ],
            "text/html": [
              "\n",
              "  <div id=\"df-7a606276-c48f-4a03-9955-a398825a14da\" class=\"colab-df-container\">\n",
              "    <div>\n",
              "<style scoped>\n",
              "    .dataframe tbody tr th:only-of-type {\n",
              "        vertical-align: middle;\n",
              "    }\n",
              "\n",
              "    .dataframe tbody tr th {\n",
              "        vertical-align: top;\n",
              "    }\n",
              "\n",
              "    .dataframe thead th {\n",
              "        text-align: right;\n",
              "    }\n",
              "</style>\n",
              "<table border=\"1\" class=\"dataframe\">\n",
              "  <thead>\n",
              "    <tr style=\"text-align: right;\">\n",
              "      <th></th>\n",
              "      <th>login</th>\n",
              "      <th>name</th>\n",
              "      <th>company</th>\n",
              "      <th>location</th>\n",
              "      <th>email</th>\n",
              "      <th>hireable</th>\n",
              "      <th>bio</th>\n",
              "      <th>public_repos</th>\n",
              "      <th>followers</th>\n",
              "      <th>following</th>\n",
              "      <th>created_at</th>\n",
              "    </tr>\n",
              "  </thead>\n",
              "  <tbody>\n",
              "    <tr>\n",
              "      <th>52</th>\n",
              "      <td>enderh3art</td>\n",
              "      <td>Jesse Zhou</td>\n",
              "      <td>NaN</td>\n",
              "      <td>Toronto</td>\n",
              "      <td>NaN</td>\n",
              "      <td>False</td>\n",
              "      <td>NaN</td>\n",
              "      <td>5</td>\n",
              "      <td>923</td>\n",
              "      <td>7</td>\n",
              "      <td>2020-04-28 05:36:17+00:00</td>\n",
              "    </tr>\n",
              "    <tr>\n",
              "      <th>62</th>\n",
              "      <td>iceburgcrm</td>\n",
              "      <td>Iceburg CRM</td>\n",
              "      <td>NaN</td>\n",
              "      <td>Toronto, Canada</td>\n",
              "      <td>NaN</td>\n",
              "      <td>False</td>\n",
              "      <td>Iceburg CRM</td>\n",
              "      <td>5</td>\n",
              "      <td>714</td>\n",
              "      <td>19957</td>\n",
              "      <td>2022-11-11 21:59:06+00:00</td>\n",
              "    </tr>\n",
              "    <tr>\n",
              "      <th>79</th>\n",
              "      <td>HamedBahram</td>\n",
              "      <td>Hamed Bahram</td>\n",
              "      <td>STUDIO-HB</td>\n",
              "      <td>Toronto, CA</td>\n",
              "      <td>NaN</td>\n",
              "      <td>True</td>\n",
              "      <td>Software developer &amp; content creator from Cana...</td>\n",
              "      <td>87</td>\n",
              "      <td>578</td>\n",
              "      <td>3</td>\n",
              "      <td>2020-04-22 13:56:33+00:00</td>\n",
              "    </tr>\n",
              "    <tr>\n",
              "      <th>94</th>\n",
              "      <td>scrumtuous</td>\n",
              "      <td>Darcy DeClute</td>\n",
              "      <td>SCRUMTUOUS</td>\n",
              "      <td>Toronto, ON</td>\n",
              "      <td>NaN</td>\n",
              "      <td>False</td>\n",
              "      <td>I'm a certified Scrum Master and AWS Cloud Pra...</td>\n",
              "      <td>16</td>\n",
              "      <td>535</td>\n",
              "      <td>90</td>\n",
              "      <td>2021-12-17 18:56:47+00:00</td>\n",
              "    </tr>\n",
              "    <tr>\n",
              "      <th>105</th>\n",
              "      <td>barry-far</td>\n",
              "      <td>bardiafa</td>\n",
              "      <td>MIZEGERD-TECH</td>\n",
              "      <td>Toronto, ON</td>\n",
              "      <td>NaN</td>\n",
              "      <td>False</td>\n",
              "      <td>\"Don't let negativity dim your light; use it a...</td>\n",
              "      <td>5</td>\n",
              "      <td>490</td>\n",
              "      <td>10</td>\n",
              "      <td>2023-09-04 06:25:14+00:00</td>\n",
              "    </tr>\n",
              "  </tbody>\n",
              "</table>\n",
              "</div>\n",
              "    <div class=\"colab-df-buttons\">\n",
              "\n",
              "  <div class=\"colab-df-container\">\n",
              "    <button class=\"colab-df-convert\" onclick=\"convertToInteractive('df-7a606276-c48f-4a03-9955-a398825a14da')\"\n",
              "            title=\"Convert this dataframe to an interactive table.\"\n",
              "            style=\"display:none;\">\n",
              "\n",
              "  <svg xmlns=\"http://www.w3.org/2000/svg\" height=\"24px\" viewBox=\"0 -960 960 960\">\n",
              "    <path d=\"M120-120v-720h720v720H120Zm60-500h600v-160H180v160Zm220 220h160v-160H400v160Zm0 220h160v-160H400v160ZM180-400h160v-160H180v160Zm440 0h160v-160H620v160ZM180-180h160v-160H180v160Zm440 0h160v-160H620v160Z\"/>\n",
              "  </svg>\n",
              "    </button>\n",
              "\n",
              "  <style>\n",
              "    .colab-df-container {\n",
              "      display:flex;\n",
              "      gap: 12px;\n",
              "    }\n",
              "\n",
              "    .colab-df-convert {\n",
              "      background-color: #E8F0FE;\n",
              "      border: none;\n",
              "      border-radius: 50%;\n",
              "      cursor: pointer;\n",
              "      display: none;\n",
              "      fill: #1967D2;\n",
              "      height: 32px;\n",
              "      padding: 0 0 0 0;\n",
              "      width: 32px;\n",
              "    }\n",
              "\n",
              "    .colab-df-convert:hover {\n",
              "      background-color: #E2EBFA;\n",
              "      box-shadow: 0px 1px 2px rgba(60, 64, 67, 0.3), 0px 1px 3px 1px rgba(60, 64, 67, 0.15);\n",
              "      fill: #174EA6;\n",
              "    }\n",
              "\n",
              "    .colab-df-buttons div {\n",
              "      margin-bottom: 4px;\n",
              "    }\n",
              "\n",
              "    [theme=dark] .colab-df-convert {\n",
              "      background-color: #3B4455;\n",
              "      fill: #D2E3FC;\n",
              "    }\n",
              "\n",
              "    [theme=dark] .colab-df-convert:hover {\n",
              "      background-color: #434B5C;\n",
              "      box-shadow: 0px 1px 3px 1px rgba(0, 0, 0, 0.15);\n",
              "      filter: drop-shadow(0px 1px 2px rgba(0, 0, 0, 0.3));\n",
              "      fill: #FFFFFF;\n",
              "    }\n",
              "  </style>\n",
              "\n",
              "    <script>\n",
              "      const buttonEl =\n",
              "        document.querySelector('#df-7a606276-c48f-4a03-9955-a398825a14da button.colab-df-convert');\n",
              "      buttonEl.style.display =\n",
              "        google.colab.kernel.accessAllowed ? 'block' : 'none';\n",
              "\n",
              "      async function convertToInteractive(key) {\n",
              "        const element = document.querySelector('#df-7a606276-c48f-4a03-9955-a398825a14da');\n",
              "        const dataTable =\n",
              "          await google.colab.kernel.invokeFunction('convertToInteractive',\n",
              "                                                    [key], {});\n",
              "        if (!dataTable) return;\n",
              "\n",
              "        const docLinkHtml = 'Like what you see? Visit the ' +\n",
              "          '<a target=\"_blank\" href=https://colab.research.google.com/notebooks/data_table.ipynb>data table notebook</a>'\n",
              "          + ' to learn more about interactive tables.';\n",
              "        element.innerHTML = '';\n",
              "        dataTable['output_type'] = 'display_data';\n",
              "        await google.colab.output.renderOutput(dataTable, element);\n",
              "        const docLink = document.createElement('div');\n",
              "        docLink.innerHTML = docLinkHtml;\n",
              "        element.appendChild(docLink);\n",
              "      }\n",
              "    </script>\n",
              "  </div>\n",
              "\n",
              "\n",
              "<div id=\"df-927c4c7c-f29e-49af-a0de-5ecf70ad96b6\">\n",
              "  <button class=\"colab-df-quickchart\" onclick=\"quickchart('df-927c4c7c-f29e-49af-a0de-5ecf70ad96b6')\"\n",
              "            title=\"Suggest charts\"\n",
              "            style=\"display:none;\">\n",
              "\n",
              "<svg xmlns=\"http://www.w3.org/2000/svg\" height=\"24px\"viewBox=\"0 0 24 24\"\n",
              "     width=\"24px\">\n",
              "    <g>\n",
              "        <path d=\"M19 3H5c-1.1 0-2 .9-2 2v14c0 1.1.9 2 2 2h14c1.1 0 2-.9 2-2V5c0-1.1-.9-2-2-2zM9 17H7v-7h2v7zm4 0h-2V7h2v10zm4 0h-2v-4h2v4z\"/>\n",
              "    </g>\n",
              "</svg>\n",
              "  </button>\n",
              "\n",
              "<style>\n",
              "  .colab-df-quickchart {\n",
              "      --bg-color: #E8F0FE;\n",
              "      --fill-color: #1967D2;\n",
              "      --hover-bg-color: #E2EBFA;\n",
              "      --hover-fill-color: #174EA6;\n",
              "      --disabled-fill-color: #AAA;\n",
              "      --disabled-bg-color: #DDD;\n",
              "  }\n",
              "\n",
              "  [theme=dark] .colab-df-quickchart {\n",
              "      --bg-color: #3B4455;\n",
              "      --fill-color: #D2E3FC;\n",
              "      --hover-bg-color: #434B5C;\n",
              "      --hover-fill-color: #FFFFFF;\n",
              "      --disabled-bg-color: #3B4455;\n",
              "      --disabled-fill-color: #666;\n",
              "  }\n",
              "\n",
              "  .colab-df-quickchart {\n",
              "    background-color: var(--bg-color);\n",
              "    border: none;\n",
              "    border-radius: 50%;\n",
              "    cursor: pointer;\n",
              "    display: none;\n",
              "    fill: var(--fill-color);\n",
              "    height: 32px;\n",
              "    padding: 0;\n",
              "    width: 32px;\n",
              "  }\n",
              "\n",
              "  .colab-df-quickchart:hover {\n",
              "    background-color: var(--hover-bg-color);\n",
              "    box-shadow: 0 1px 2px rgba(60, 64, 67, 0.3), 0 1px 3px 1px rgba(60, 64, 67, 0.15);\n",
              "    fill: var(--button-hover-fill-color);\n",
              "  }\n",
              "\n",
              "  .colab-df-quickchart-complete:disabled,\n",
              "  .colab-df-quickchart-complete:disabled:hover {\n",
              "    background-color: var(--disabled-bg-color);\n",
              "    fill: var(--disabled-fill-color);\n",
              "    box-shadow: none;\n",
              "  }\n",
              "\n",
              "  .colab-df-spinner {\n",
              "    border: 2px solid var(--fill-color);\n",
              "    border-color: transparent;\n",
              "    border-bottom-color: var(--fill-color);\n",
              "    animation:\n",
              "      spin 1s steps(1) infinite;\n",
              "  }\n",
              "\n",
              "  @keyframes spin {\n",
              "    0% {\n",
              "      border-color: transparent;\n",
              "      border-bottom-color: var(--fill-color);\n",
              "      border-left-color: var(--fill-color);\n",
              "    }\n",
              "    20% {\n",
              "      border-color: transparent;\n",
              "      border-left-color: var(--fill-color);\n",
              "      border-top-color: var(--fill-color);\n",
              "    }\n",
              "    30% {\n",
              "      border-color: transparent;\n",
              "      border-left-color: var(--fill-color);\n",
              "      border-top-color: var(--fill-color);\n",
              "      border-right-color: var(--fill-color);\n",
              "    }\n",
              "    40% {\n",
              "      border-color: transparent;\n",
              "      border-right-color: var(--fill-color);\n",
              "      border-top-color: var(--fill-color);\n",
              "    }\n",
              "    60% {\n",
              "      border-color: transparent;\n",
              "      border-right-color: var(--fill-color);\n",
              "    }\n",
              "    80% {\n",
              "      border-color: transparent;\n",
              "      border-right-color: var(--fill-color);\n",
              "      border-bottom-color: var(--fill-color);\n",
              "    }\n",
              "    90% {\n",
              "      border-color: transparent;\n",
              "      border-bottom-color: var(--fill-color);\n",
              "    }\n",
              "  }\n",
              "</style>\n",
              "\n",
              "  <script>\n",
              "    async function quickchart(key) {\n",
              "      const quickchartButtonEl =\n",
              "        document.querySelector('#' + key + ' button');\n",
              "      quickchartButtonEl.disabled = true;  // To prevent multiple clicks.\n",
              "      quickchartButtonEl.classList.add('colab-df-spinner');\n",
              "      try {\n",
              "        const charts = await google.colab.kernel.invokeFunction(\n",
              "            'suggestCharts', [key], {});\n",
              "      } catch (error) {\n",
              "        console.error('Error during call to suggestCharts:', error);\n",
              "      }\n",
              "      quickchartButtonEl.classList.remove('colab-df-spinner');\n",
              "      quickchartButtonEl.classList.add('colab-df-quickchart-complete');\n",
              "    }\n",
              "    (() => {\n",
              "      let quickchartButtonEl =\n",
              "        document.querySelector('#df-927c4c7c-f29e-49af-a0de-5ecf70ad96b6 button');\n",
              "      quickchartButtonEl.style.display =\n",
              "        google.colab.kernel.accessAllowed ? 'block' : 'none';\n",
              "    })();\n",
              "  </script>\n",
              "</div>\n",
              "\n",
              "    </div>\n",
              "  </div>\n"
            ],
            "application/vnd.google.colaboratory.intrinsic+json": {
              "type": "dataframe",
              "variable_name": "users_after_2020",
              "summary": "{\n  \"name\": \"users_after_2020\",\n  \"rows\": 43,\n  \"fields\": [\n    {\n      \"column\": \"login\",\n      \"properties\": {\n        \"dtype\": \"string\",\n        \"num_unique_values\": 43,\n        \"samples\": [\n          \"eadamceylan\",\n          \"MohamedSlah27\",\n          \"JasonLovesDoggo\"\n        ],\n        \"semantic_type\": \"\",\n        \"description\": \"\"\n      }\n    },\n    {\n      \"column\": \"name\",\n      \"properties\": {\n        \"dtype\": \"string\",\n        \"num_unique_values\": 43,\n        \"samples\": [\n          \"Adam Ceylan\",\n          \"Mohamed Salah\",\n          \"Jason Cameron\"\n        ],\n        \"semantic_type\": \"\",\n        \"description\": \"\"\n      }\n    },\n    {\n      \"column\": \"company\",\n      \"properties\": {\n        \"dtype\": \"category\",\n        \"num_unique_values\": 20,\n        \"samples\": [\n          \"STUDIO-HB\",\n          \"YORK UNIVERSITY\",\n          \"OWNER OF @APP-CHOREOGRAPHY ORGANISATION\"\n        ],\n        \"semantic_type\": \"\",\n        \"description\": \"\"\n      }\n    },\n    {\n      \"column\": \"location\",\n      \"properties\": {\n        \"dtype\": \"category\",\n        \"num_unique_values\": 14,\n        \"samples\": [\n          \"Toronto, Ontario\",\n          \"Toronto, Ontario, Canada\",\n          \"Toronto\"\n        ],\n        \"semantic_type\": \"\",\n        \"description\": \"\"\n      }\n    },\n    {\n      \"column\": \"email\",\n      \"properties\": {\n        \"dtype\": \"category\",\n        \"num_unique_values\": 12,\n        \"samples\": [\n          \"moeinsh@yorku.ca\",\n          \"mehdipourparsa@gmail.com\",\n          \"semagnbereket@gmail.com\"\n        ],\n        \"semantic_type\": \"\",\n        \"description\": \"\"\n      }\n    },\n    {\n      \"column\": \"hireable\",\n      \"properties\": {\n        \"dtype\": \"boolean\",\n        \"num_unique_values\": 2,\n        \"samples\": [\n          true,\n          false\n        ],\n        \"semantic_type\": \"\",\n        \"description\": \"\"\n      }\n    },\n    {\n      \"column\": \"bio\",\n      \"properties\": {\n        \"dtype\": \"string\",\n        \"num_unique_values\": 37,\n        \"samples\": [\n          \"\\ud83d\\udd74\\ud83c\\udffcAlways quest for my Kick \\ud83d\\udd74\\ud83c\\udffcKeeping my demon dormant\\ud83d\\udd74\\ud83c\\udffc\\r\\n\",\n          \"Data Analyst who loves ML and NLP \\u2022 \\ud83d\\udcbc E-Commerce Analytics @ Sobeys Canada\"\n        ],\n        \"semantic_type\": \"\",\n        \"description\": \"\"\n      }\n    },\n    {\n      \"column\": \"public_repos\",\n      \"properties\": {\n        \"dtype\": \"number\",\n        \"std\": 32,\n        \"min\": 5,\n        \"max\": 144,\n        \"num_unique_values\": 33,\n        \"samples\": [\n          24,\n          21\n        ],\n        \"semantic_type\": \"\",\n        \"description\": \"\"\n      }\n    },\n    {\n      \"column\": \"followers\",\n      \"properties\": {\n        \"dtype\": \"number\",\n        \"std\": 177,\n        \"min\": 101,\n        \"max\": 923,\n        \"num_unique_values\": 40,\n        \"samples\": [\n          203,\n          218\n        ],\n        \"semantic_type\": \"\",\n        \"description\": \"\"\n      }\n    },\n    {\n      \"column\": \"following\",\n      \"properties\": {\n        \"dtype\": \"number\",\n        \"std\": 3029,\n        \"min\": 0,\n        \"max\": 19957,\n        \"num_unique_values\": 36,\n        \"samples\": [\n          60,\n          330\n        ],\n        \"semantic_type\": \"\",\n        \"description\": \"\"\n      }\n    },\n    {\n      \"column\": \"created_at\",\n      \"properties\": {\n        \"dtype\": \"date\",\n        \"min\": \"2020-01-06 13:07:27+00:00\",\n        \"max\": \"2023-09-04 06:25:14+00:00\",\n        \"num_unique_values\": 43,\n        \"samples\": [\n          \"2022-03-25 00:32:52+00:00\",\n          \"2023-02-11 22:58:40+00:00\"\n        ],\n        \"semantic_type\": \"\",\n        \"description\": \"\"\n      }\n    }\n  ]\n}"
            }
          },
          "metadata": {},
          "execution_count": 13
        }
      ],
      "source": [
        "users_after_2020 = users[users['created_at'] > '2020-01-01']\n",
        "users_after_2020.head()"
      ]
    },
    {
      "cell_type": "code",
      "execution_count": 14,
      "id": "aee537b6-38c7-4aa5-baae-c398fe385053",
      "metadata": {
        "colab": {
          "base_uri": "https://localhost:8080/",
          "height": 272
        },
        "id": "aee537b6-38c7-4aa5-baae-c398fe385053",
        "outputId": "f8b20626-d753-40cf-c174-4fdd85a0383d"
      },
      "outputs": [
        {
          "output_type": "execute_result",
          "data": {
            "text/plain": [
              "language\n",
              "JavaScript    338\n",
              "TypeScript    205\n",
              "Python        161\n",
              "HTML          122\n",
              "CSS            61\n",
              "Name: count, dtype: int64"
            ],
            "text/html": [
              "<div>\n",
              "<style scoped>\n",
              "    .dataframe tbody tr th:only-of-type {\n",
              "        vertical-align: middle;\n",
              "    }\n",
              "\n",
              "    .dataframe tbody tr th {\n",
              "        vertical-align: top;\n",
              "    }\n",
              "\n",
              "    .dataframe thead th {\n",
              "        text-align: right;\n",
              "    }\n",
              "</style>\n",
              "<table border=\"1\" class=\"dataframe\">\n",
              "  <thead>\n",
              "    <tr style=\"text-align: right;\">\n",
              "      <th></th>\n",
              "      <th>count</th>\n",
              "    </tr>\n",
              "    <tr>\n",
              "      <th>language</th>\n",
              "      <th></th>\n",
              "    </tr>\n",
              "  </thead>\n",
              "  <tbody>\n",
              "    <tr>\n",
              "      <th>JavaScript</th>\n",
              "      <td>338</td>\n",
              "    </tr>\n",
              "    <tr>\n",
              "      <th>TypeScript</th>\n",
              "      <td>205</td>\n",
              "    </tr>\n",
              "    <tr>\n",
              "      <th>Python</th>\n",
              "      <td>161</td>\n",
              "    </tr>\n",
              "    <tr>\n",
              "      <th>HTML</th>\n",
              "      <td>122</td>\n",
              "    </tr>\n",
              "    <tr>\n",
              "      <th>CSS</th>\n",
              "      <td>61</td>\n",
              "    </tr>\n",
              "  </tbody>\n",
              "</table>\n",
              "</div><br><label><b>dtype:</b> int64</label>"
            ]
          },
          "metadata": {},
          "execution_count": 14
        }
      ],
      "source": [
        "repos_2020 = repos[repos['login'].isin(users_after_2020['login'].tolist())]\n",
        "repos_2020['language'].value_counts().head()"
      ]
    },
    {
      "cell_type": "markdown",
      "id": "d0b07a2f-bcae-496b-ab7e-188a2f0aa7be",
      "metadata": {
        "id": "d0b07a2f-bcae-496b-ab7e-188a2f0aa7be"
      },
      "source": [
        "#### Q7. Which language has the highest average number of stars per repository?"
      ]
    },
    {
      "cell_type": "code",
      "execution_count": 15,
      "id": "8c8a119a-e562-4855-8330-23b6dccdfea9",
      "metadata": {
        "colab": {
          "base_uri": "https://localhost:8080/"
        },
        "id": "8c8a119a-e562-4855-8330-23b6dccdfea9",
        "outputId": "7f110fa5-f99b-4ae3-f15d-bce1fc665735"
      },
      "outputs": [
        {
          "output_type": "stream",
          "name": "stdout",
          "text": [
            "Cython 1780.6666666666667\n"
          ]
        }
      ],
      "source": [
        "avg_stars = repos.groupby('language')['stargazers_count'].mean()\n",
        "top_lang = avg_stars.idxmax()\n",
        "top_stars = avg_stars.max()\n",
        "print(top_lang, top_stars)"
      ]
    },
    {
      "cell_type": "markdown",
      "id": "e430846a-1518-409f-8717-cb2f84570460",
      "metadata": {
        "id": "e430846a-1518-409f-8717-cb2f84570460"
      },
      "source": [
        "#### Q8. Let's define leader_strength as followers / (1 + following). Who are the top 5 in terms of leader_strength? List their login in order, comma-separated."
      ]
    },
    {
      "cell_type": "code",
      "execution_count": 16,
      "id": "aa51b046-149f-4ef5-89ff-62586043992c",
      "metadata": {
        "colab": {
          "base_uri": "https://localhost:8080/"
        },
        "id": "aa51b046-149f-4ef5-89ff-62586043992c",
        "outputId": "979d0be3-349a-4f2b-c595-71d4906755e0"
      },
      "outputs": [
        {
          "output_type": "stream",
          "name": "stdout",
          "text": [
            "aneagoie,nayuki,GrapheneOS,hlissner,rspivak\n"
          ]
        }
      ],
      "source": [
        "users['leader_strength'] = users['followers'] / (1 + users['following'])\n",
        "top5_lead = users.sort_values(by='leader_strength', ascending=False).head()\n",
        "print(','.join(top5_lead['login'].tolist()))"
      ]
    },
    {
      "cell_type": "markdown",
      "id": "8dd87be3-3a61-4fe1-ab5c-1ef836c545d3",
      "metadata": {
        "id": "8dd87be3-3a61-4fe1-ab5c-1ef836c545d3"
      },
      "source": [
        "#### Q9. What is the correlation between the number of followers and the number of public repositories among users in Basel?"
      ]
    },
    {
      "cell_type": "code",
      "execution_count": 17,
      "id": "91e8b274-bde5-41ac-91d2-d965334f2d35",
      "metadata": {
        "colab": {
          "base_uri": "https://localhost:8080/"
        },
        "id": "91e8b274-bde5-41ac-91d2-d965334f2d35",
        "outputId": "ce2bdcf6-6a18-4341-ec62-c7472590a395"
      },
      "outputs": [
        {
          "output_type": "execute_result",
          "data": {
            "text/plain": [
              "0.05547950303867636"
            ]
          },
          "metadata": {},
          "execution_count": 17
        }
      ],
      "source": [
        "correlation = users['followers'].corr(users['public_repos'])\n",
        "correlation"
      ]
    },
    {
      "cell_type": "markdown",
      "id": "23dac608-8b88-48d8-aeae-1e11b2cb2b87",
      "metadata": {
        "id": "23dac608-8b88-48d8-aeae-1e11b2cb2b87"
      },
      "source": [
        "#### Q10. Does creating more repos help users get more followers? Using regression, estimate how many additional followers a user gets per additional public repository."
      ]
    },
    {
      "cell_type": "code",
      "execution_count": 18,
      "id": "9eede565-f813-4807-989b-051201f7f411",
      "metadata": {
        "colab": {
          "base_uri": "https://localhost:8080/"
        },
        "id": "9eede565-f813-4807-989b-051201f7f411",
        "outputId": "47e2fa96-165f-4945-9987-fc763bb0d62a"
      },
      "outputs": [
        {
          "output_type": "stream",
          "name": "stdout",
          "text": [
            "0.253\n"
          ]
        }
      ],
      "source": [
        "import csv\n",
        "followers = []\n",
        "public_repos = []\n",
        "with open('users.csv', 'r', encoding='utf-8') as file:\n",
        "    reader = csv.DictReader(file)\n",
        "    for row in reader:\n",
        "        followers_count = int(row['followers'])\n",
        "        public_repos_count = int(row['public_repos'])\n",
        "        followers.append(followers_count)\n",
        "        public_repos.append(public_repos_count)\n",
        "if len(followers) > 1 and len(public_repos) > 1:\n",
        "    slope, intercept = np.polyfit(public_repos, followers, 1)\n",
        "\n",
        "    print(f\"{slope:.3f}\")\n",
        "else:\n",
        "    print(\"Error\")"
      ]
    },
    {
      "cell_type": "markdown",
      "id": "b1739602-5cef-48d6-a3ef-3ecc1d12f405",
      "metadata": {
        "id": "b1739602-5cef-48d6-a3ef-3ecc1d12f405"
      },
      "source": [
        "#### Q11. Do people typically enable projects and wikis together? What is the correlation between a repo having projects enabled and having wiki enabled?"
      ]
    },
    {
      "cell_type": "code",
      "execution_count": 19,
      "id": "e680160d-cfa3-42ef-be27-55a772b77171",
      "metadata": {
        "colab": {
          "base_uri": "https://localhost:8080/"
        },
        "id": "e680160d-cfa3-42ef-be27-55a772b77171",
        "outputId": "15d15628-41b8-4d43-a6fc-a4269a187948"
      },
      "outputs": [
        {
          "output_type": "stream",
          "name": "stdout",
          "text": [
            "0.353\n"
          ]
        }
      ],
      "source": [
        "if repos['has_projects'].dtype == 'object':\n",
        "    repos['has_projects'] = repos['has_projects'].map({'true': True, 'false': False})\n",
        "if repos['has_wiki'].dtype == 'object':\n",
        "    repos['has_wiki'] = repos['has_wiki'].map({'true': True, 'false': False})\n",
        "\n",
        "correlation = repos['has_projects'].corr(repos['has_wiki'])\n",
        "\n",
        "print(round(correlation, 3))"
      ]
    },
    {
      "cell_type": "markdown",
      "id": "7d1c5de4-b714-46e2-af6a-ad41e8a42f8f",
      "metadata": {
        "id": "7d1c5de4-b714-46e2-af6a-ad41e8a42f8f"
      },
      "source": [
        "#### Q12. Do hireable users follow more people than those who are not hireable?"
      ]
    },
    {
      "cell_type": "code",
      "execution_count": 20,
      "id": "cd51bed6-bba7-4407-94a9-ccc5e3968b4d",
      "metadata": {
        "colab": {
          "base_uri": "https://localhost:8080/"
        },
        "id": "cd51bed6-bba7-4407-94a9-ccc5e3968b4d",
        "outputId": "e5b56445-c02e-46aa-e086-f33683f97385"
      },
      "outputs": [
        {
          "output_type": "execute_result",
          "data": {
            "text/plain": [
              "-13.3059536721413"
            ]
          },
          "metadata": {},
          "execution_count": 20
        }
      ],
      "source": [
        "hireable_avg_following = users[users['hireable'] == True]['following'].mean()\n",
        "non_hireable_avg_following = users[users['hireable'] == False]['following'].mean()\n",
        "difference = hireable_avg_following - non_hireable_avg_following\n",
        "difference"
      ]
    },
    {
      "cell_type": "markdown",
      "id": "1f30dbcf-90f2-4531-b37c-0386828e1f9f",
      "metadata": {
        "id": "1f30dbcf-90f2-4531-b37c-0386828e1f9f"
      },
      "source": [
        "#### Q13. Some developers write long bios. Does that help them get more followers? What's the correlation of the length of their bio (in Unicode characters) with followers? (Ignore people without bios)"
      ]
    },
    {
      "cell_type": "code",
      "execution_count": 21,
      "id": "a324c8b4-9faf-4f4d-9c3d-0813e6bdbfb8",
      "metadata": {
        "colab": {
          "base_uri": "https://localhost:8080/"
        },
        "id": "a324c8b4-9faf-4f4d-9c3d-0813e6bdbfb8",
        "outputId": "903a695b-736d-404a-9ea5-77711c3382aa"
      },
      "outputs": [
        {
          "output_type": "execute_result",
          "data": {
            "text/plain": [
              "1.4041986504876804"
            ]
          },
          "metadata": {},
          "execution_count": 21
        }
      ],
      "source": [
        "from sklearn.linear_model import LinearRegression\n",
        "users_with_bio = users[(users['bio'].notna()) & (users['bio'] != '')].copy()\n",
        "users_with_bio.loc[:, 'bio_len'] = users_with_bio['bio'].str.len()\n",
        "\n",
        "X = users_with_bio['bio_len'].values.reshape(-1,1)\n",
        "y = users_with_bio['followers']\n",
        "\n",
        "lr2 = LinearRegression()\n",
        "lr2.fit(X, y)\n",
        "lr2.coef_[0]"
      ]
    },
    {
      "cell_type": "markdown",
      "id": "96cb22e4-4046-40cf-9be5-06f096b0f0c3",
      "metadata": {
        "id": "96cb22e4-4046-40cf-9be5-06f096b0f0c3"
      },
      "source": [
        "#### Q14. Who created the most repositories on weekends (UTC)? List the top 5 users' login in order, comma-separated"
      ]
    },
    {
      "cell_type": "code",
      "execution_count": 22,
      "id": "ab49dafe-2981-4fe1-b603-0bee0e61e04f",
      "metadata": {
        "colab": {
          "base_uri": "https://localhost:8080/"
        },
        "id": "ab49dafe-2981-4fe1-b603-0bee0e61e04f",
        "outputId": "6f4b6058-3e10-4552-98fc-036593b6bc51"
      },
      "outputs": [
        {
          "output_type": "stream",
          "name": "stdout",
          "text": [
            "n1ckfg,jsoref,QuinntyneBrown,invokethreatguy,andyw8\n"
          ]
        }
      ],
      "source": [
        "import csv\n",
        "from collections import Counter\n",
        "from datetime import datetime\n",
        "\n",
        "weekend_repo_counts = Counter()\n",
        "\n",
        "with open('repositories.csv', 'r', encoding='utf-8') as file:\n",
        "    reader = csv.DictReader(file)\n",
        "\n",
        "    for row in reader:\n",
        "        created_at = row.get('created_at', '')\n",
        "        if created_at:\n",
        "            created_date = datetime.fromisoformat(created_at[:-1])\n",
        "\n",
        "            if created_date.weekday() in [5, 6]:\n",
        "                user_login = row['login']\n",
        "                weekend_repo_counts[user_login] += 1\n",
        "\n",
        "top_users = weekend_repo_counts.most_common(5)\n",
        "\n",
        "top_logins = [user[0] for user in top_users]\n",
        "\n",
        "print(','.join(top_logins))"
      ]
    },
    {
      "cell_type": "markdown",
      "id": "6d9da60a-2ff0-4421-808e-ab9a74bf02fb",
      "metadata": {
        "id": "6d9da60a-2ff0-4421-808e-ab9a74bf02fb"
      },
      "source": [
        "#### Q15. Do people who are hireable share their email addresses more often?"
      ]
    },
    {
      "cell_type": "code",
      "execution_count": 23,
      "id": "b8381831-d1ed-4855-afc2-97ad1c06a1af",
      "metadata": {
        "colab": {
          "base_uri": "https://localhost:8080/"
        },
        "id": "b8381831-d1ed-4855-afc2-97ad1c06a1af",
        "outputId": "ab683597-127b-44fa-faac-d91475469f9a"
      },
      "outputs": [
        {
          "output_type": "execute_result",
          "data": {
            "text/plain": [
              "0.13476138828633405"
            ]
          },
          "metadata": {},
          "execution_count": 23
        }
      ],
      "source": [
        "fraction_hierable = users[users['hireable'] == True]['email'].notna().mean()\n",
        "fraction_non_hierable = users[users['hireable'] == False]['email'].notna().mean()\n",
        "diff = fraction_hierable - fraction_non_hierable\n",
        "diff"
      ]
    },
    {
      "cell_type": "markdown",
      "id": "806a227e-1285-4c5f-bb05-867a3fd5101a",
      "metadata": {
        "id": "806a227e-1285-4c5f-bb05-867a3fd5101a"
      },
      "source": [
        "#### Q16. Let's assume that the last word in a user's name is their surname (ignore missing names, trim and split by whitespace.) What's the most common surname? (If there's a tie, list them all, comma-separated, alphabetically)"
      ]
    },
    {
      "cell_type": "code",
      "execution_count": 24,
      "id": "01a24dfb-05cc-4528-b118-558b2307639c",
      "metadata": {
        "colab": {
          "base_uri": "https://localhost:8080/"
        },
        "id": "01a24dfb-05cc-4528-b118-558b2307639c",
        "outputId": "acb0288c-09c0-4f7a-b1cd-90786798b73d"
      },
      "outputs": [
        {
          "output_type": "stream",
          "name": "stdout",
          "text": [
            "Ahmed\n"
          ]
        }
      ],
      "source": [
        "new_users = users[users['name'].notna()].copy()\n",
        "new_users['surname'] = new_users['name'].str.split().str[-1].str.strip()\n",
        "surname_counts = new_users['surname'].value_counts()\n",
        "max_count = surname_counts.max()\n",
        "common_surnames = surname_counts[surname_counts == max_count].index.tolist()\n",
        "common_surnames.sort()\n",
        "print(','.join(common_surnames))"
      ]
    },
    {
      "cell_type": "code",
      "execution_count": null,
      "id": "2cc25d8c-a405-46d2-ba14-78bf49fabbc6",
      "metadata": {
        "id": "2cc25d8c-a405-46d2-ba14-78bf49fabbc6"
      },
      "outputs": [],
      "source": [
        "# users = users.fillna(\"\").astype(str)\n",
        "# repos = repos.fillna(\"\").astype(str)\n",
        "\n",
        "# repos['has_wiki'] = repos['has_wiki'].astype(str).replace({'True': 'true', 'False': 'false'})\n",
        "# repos['has_projects'] = repos['has_projects'].astype(str).replace({'True': 'true', 'False': 'false'})\n",
        "\n",
        "# # users.to_csv('users1.csv', index=False)\n",
        "# repos.to_csv('repos1.csv', index=False)"
      ]
    }
  ],
  "metadata": {
    "kernelspec": {
      "display_name": "Python (eda)",
      "language": "python",
      "name": "eda"
    },
    "language_info": {
      "codemirror_mode": {
        "name": "ipython",
        "version": 3
      },
      "file_extension": ".py",
      "mimetype": "text/x-python",
      "name": "python",
      "nbconvert_exporter": "python",
      "pygments_lexer": "ipython3",
      "version": "3.12.2"
    },
    "colab": {
      "provenance": []
    }
  },
  "nbformat": 4,
  "nbformat_minor": 5
}